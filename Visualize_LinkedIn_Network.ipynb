{
 "cells": [
  {
   "cell_type": "code",
   "execution_count": 1,
   "id": "ae0ea1f0-29d5-4b91-875e-518769e77525",
   "metadata": {},
   "outputs": [],
   "source": [
    "import pandas as pd\n",
    "import janitor\n",
    "import datetime\n",
    "\n",
    "from IPython.core.display import display, HTML\n",
    "from pyvis import network as net\n",
    "import networkx as nx"
   ]
  },
  {
   "cell_type": "code",
   "execution_count": 2,
   "id": "acdf4109-e676-43ca-a9e6-901296919465",
   "metadata": {},
   "outputs": [],
   "source": [
    "df_original = pd.read_csv(\"C:/Users/Genius7/Data_Science/Connections.csv\", skiprows=2)"
   ]
  },
  {
   "cell_type": "code",
   "execution_count": 3,
   "id": "06eb73cc-387f-412c-ad1a-4c8080d2a347",
   "metadata": {},
   "outputs": [
    {
     "name": "stdout",
     "output_type": "stream",
     "text": [
      "<class 'pandas.core.frame.DataFrame'>\n",
      "RangeIndex: 438 entries, 0 to 437\n",
      "Data columns (total 6 columns):\n",
      " #   Column         Non-Null Count  Dtype \n",
      "---  ------         --------------  ----- \n",
      " 0   First Name     430 non-null    object\n",
      " 1   Last Name      430 non-null    object\n",
      " 2   Email Address  10 non-null     object\n",
      " 3   Company        415 non-null    object\n",
      " 4   Position       415 non-null    object\n",
      " 5   Connected On   438 non-null    object\n",
      "dtypes: object(6)\n",
      "memory usage: 20.7+ KB\n"
     ]
    }
   ],
   "source": [
    "df_original.info()"
   ]
  },
  {
   "cell_type": "markdown",
   "id": "e9f9acb2-b8c7-478b-a070-3be8d7ca4b54",
   "metadata": {},
   "source": [
    "### Data Cleaning"
   ]
  },
  {
   "cell_type": "code",
   "execution_count": 4,
   "id": "45482710-2c61-4b10-bdeb-1d38bfe25014",
   "metadata": {},
   "outputs": [
    {
     "data": {
      "text/html": [
       "<div>\n",
       "<style scoped>\n",
       "    .dataframe tbody tr th:only-of-type {\n",
       "        vertical-align: middle;\n",
       "    }\n",
       "\n",
       "    .dataframe tbody tr th {\n",
       "        vertical-align: top;\n",
       "    }\n",
       "\n",
       "    .dataframe thead th {\n",
       "        text-align: right;\n",
       "    }\n",
       "</style>\n",
       "<table border=\"1\" class=\"dataframe\">\n",
       "  <thead>\n",
       "    <tr style=\"text-align: right;\">\n",
       "      <th></th>\n",
       "      <th>company</th>\n",
       "      <th>position</th>\n",
       "      <th>connected_on</th>\n",
       "    </tr>\n",
       "  </thead>\n",
       "  <tbody>\n",
       "    <tr>\n",
       "      <th>0</th>\n",
       "      <td>Ammon Consulting Myanmar</td>\n",
       "      <td>Business Development Assistant</td>\n",
       "      <td>2021-12-02</td>\n",
       "    </tr>\n",
       "    <tr>\n",
       "      <th>1</th>\n",
       "      <td>Ammon Consulting Myanmar</td>\n",
       "      <td>Recruitment Executive</td>\n",
       "      <td>2021-12-02</td>\n",
       "    </tr>\n",
       "    <tr>\n",
       "      <th>2</th>\n",
       "      <td>Uline</td>\n",
       "      <td>Lead Database Administrator</td>\n",
       "      <td>2021-12-01</td>\n",
       "    </tr>\n",
       "    <tr>\n",
       "      <th>3</th>\n",
       "      <td>Confidential</td>\n",
       "      <td>Human Resources Officer</td>\n",
       "      <td>2021-12-01</td>\n",
       "    </tr>\n",
       "    <tr>\n",
       "      <th>4</th>\n",
       "      <td>Ongo e-Money</td>\n",
       "      <td>Head Of Human Resources</td>\n",
       "      <td>2021-12-01</td>\n",
       "    </tr>\n",
       "  </tbody>\n",
       "</table>\n",
       "</div>"
      ],
      "text/plain": [
       "                    company                        position connected_on\n",
       "0  Ammon Consulting Myanmar  Business Development Assistant   2021-12-02\n",
       "1  Ammon Consulting Myanmar           Recruitment Executive   2021-12-02\n",
       "2                     Uline     Lead Database Administrator   2021-12-01\n",
       "3              Confidential         Human Resources Officer   2021-12-01\n",
       "4              Ongo e-Money         Head Of Human Resources   2021-12-01"
      ]
     },
     "execution_count": 4,
     "metadata": {},
     "output_type": "execute_result"
    }
   ],
   "source": [
    "df = (\n",
    "    df_original\n",
    "    .clean_names() # remove spacing and capitallization\n",
    "    .drop(columns=['first_name','last_name','email_address']) # drop for privacy\n",
    "    .dropna(subset=['company','position']) # drop missing values in company and position\n",
    "    .to_datetime('connected_on', format='%d %b %Y')\n",
    ")\n",
    "df.head()"
   ]
  },
  {
   "cell_type": "markdown",
   "id": "c0a152ba-13a8-428a-a651-b12301b3b99c",
   "metadata": {},
   "source": [
    "### Simple EDA"
   ]
  },
  {
   "cell_type": "markdown",
   "id": "221cb340-0307-4ec8-870b-31df2db64f16",
   "metadata": {},
   "source": [
    "#### Top 10 Companies"
   ]
  },
  {
   "cell_type": "code",
   "execution_count": 5,
   "id": "f1cca2c2-6e23-46d9-a518-e738b22d8b3d",
   "metadata": {},
   "outputs": [
    {
     "data": {
      "image/png": "[encoded data removed]",
      "text/plain": [
       "<Figure size 432x288 with 1 Axes>"
      ]
     },
     "metadata": {
      "needs_background": "light"
     },
     "output_type": "display_data"
    }
   ],
   "source": [
    "df['company'].value_counts().head(10).plot(kind=\"barh\").invert_yaxis();"
   ]
  },
  {
   "cell_type": "code",
   "execution_count": 6,
   "id": "31f6efe3-2a4f-4b70-b819-fe6aab592d02",
   "metadata": {},
   "outputs": [],
   "source": [
    "pattern = \"freelance | self-employed\"\n",
    "df = df[~df['company'].str.contains(pattern, case=False)]"
   ]
  },
  {
   "cell_type": "markdown",
   "id": "0de48b09-581f-431c-b66f-63ba0f9555ed",
   "metadata": {},
   "source": [
    "#### Top 10 Positions"
   ]
  },
  {
   "cell_type": "code",
   "execution_count": 7,
   "id": "afac1c1f-cebc-486d-9d4a-67d83dbec0cc",
   "metadata": {},
   "outputs": [
    {
     "data": {
      "image/png": "[encoded data removed]",
      "text/plain": [
       "<Figure size 432x288 with 1 Axes>"
      ]
     },
     "metadata": {
      "needs_background": "light"
     },
     "output_type": "display_data"
    }
   ],
   "source": [
    "df['position'].value_counts().head(10).plot(kind=\"barh\").invert_yaxis();"
   ]
  },
  {
   "cell_type": "markdown",
   "id": "8b9a765e-e8cf-4c7b-a465-391d653bc31f",
   "metadata": {},
   "source": [
    "### Month connected on Histogram"
   ]
  },
  {
   "cell_type": "code",
   "execution_count": 8,
   "id": "475e2709-8c98-41fe-bfff-968f1a000dbb",
   "metadata": {},
   "outputs": [
    {
     "data": {
      "image/png": "[encoded data removed]",
      "text/plain": [
       "<Figure size 432x288 with 1 Axes>"
      ]
     },
     "metadata": {
      "needs_background": "light"
     },
     "output_type": "display_data"
    }
   ],
   "source": [
    "df['connected_on'].hist(xrot=35,bins=15);"
   ]
  },
  {
   "cell_type": "markdown",
   "id": "7003b4b1-c154-44a4-b45c-6184f6ce6285",
   "metadata": {},
   "source": [
    "#### Aggregate position and connection columns"
   ]
  },
  {
   "cell_type": "code",
   "execution_count": 9,
   "id": "f9bf07ae-bb75-460b-9a16-bfbc8b82c13d",
   "metadata": {},
   "outputs": [
    {
     "data": {
      "text/html": [
       "<div>\n",
       "<style scoped>\n",
       "    .dataframe tbody tr th:only-of-type {\n",
       "        vertical-align: middle;\n",
       "    }\n",
       "\n",
       "    .dataframe tbody tr th {\n",
       "        vertical-align: top;\n",
       "    }\n",
       "\n",
       "    .dataframe thead th {\n",
       "        text-align: right;\n",
       "    }\n",
       "</style>\n",
       "<table border=\"1\" class=\"dataframe\">\n",
       "  <thead>\n",
       "    <tr style=\"text-align: right;\">\n",
       "      <th></th>\n",
       "      <th>company</th>\n",
       "      <th>count</th>\n",
       "    </tr>\n",
       "  </thead>\n",
       "  <tbody>\n",
       "    <tr>\n",
       "      <th>0</th>\n",
       "      <td>AYA Bank</td>\n",
       "      <td>18</td>\n",
       "    </tr>\n",
       "    <tr>\n",
       "      <th>1</th>\n",
       "      <td>uab bank</td>\n",
       "      <td>15</td>\n",
       "    </tr>\n",
       "    <tr>\n",
       "      <th>2</th>\n",
       "      <td>Yoma Bank</td>\n",
       "      <td>10</td>\n",
       "    </tr>\n",
       "    <tr>\n",
       "      <th>3</th>\n",
       "      <td>AIA Myanmar</td>\n",
       "      <td>7</td>\n",
       "    </tr>\n",
       "    <tr>\n",
       "      <th>4</th>\n",
       "      <td>Bagan Innovation Technology</td>\n",
       "      <td>7</td>\n",
       "    </tr>\n",
       "    <tr>\n",
       "      <th>5</th>\n",
       "      <td>CARRO</td>\n",
       "      <td>6</td>\n",
       "    </tr>\n",
       "    <tr>\n",
       "      <th>6</th>\n",
       "      <td>Telenor</td>\n",
       "      <td>6</td>\n",
       "    </tr>\n",
       "    <tr>\n",
       "      <th>7</th>\n",
       "      <td>KBZ Bank</td>\n",
       "      <td>5</td>\n",
       "    </tr>\n",
       "    <tr>\n",
       "      <th>8</th>\n",
       "      <td>Better HR</td>\n",
       "      <td>5</td>\n",
       "    </tr>\n",
       "    <tr>\n",
       "      <th>9</th>\n",
       "      <td>MPT</td>\n",
       "      <td>5</td>\n",
       "    </tr>\n",
       "  </tbody>\n",
       "</table>\n",
       "</div>"
      ],
      "text/plain": [
       "                       company  count\n",
       "0                     AYA Bank     18\n",
       "1                     uab bank     15\n",
       "2                    Yoma Bank     10\n",
       "3                  AIA Myanmar      7\n",
       "4  Bagan Innovation Technology      7\n",
       "5                        CARRO      6\n",
       "6                      Telenor      6\n",
       "7                     KBZ Bank      5\n",
       "8                    Better HR      5\n",
       "9                          MPT      5"
      ]
     },
     "execution_count": 9,
     "metadata": {},
     "output_type": "execute_result"
    }
   ],
   "source": [
    "df_company = df['company'].value_counts().reset_index()\n",
    "df_company.columns = ['company','count']\n",
    "df_company = df_company.sort_values(by=\"count\", ascending=False)\n",
    "df_company.head(10)"
   ]
  },
  {
   "cell_type": "code",
   "execution_count": 10,
   "id": "381a6c31-ba31-4cf2-a445-c490b7030817",
   "metadata": {},
   "outputs": [
    {
     "data": {
      "text/html": [
       "<div>\n",
       "<style scoped>\n",
       "    .dataframe tbody tr th:only-of-type {\n",
       "        vertical-align: middle;\n",
       "    }\n",
       "\n",
       "    .dataframe tbody tr th {\n",
       "        vertical-align: top;\n",
       "    }\n",
       "\n",
       "    .dataframe thead th {\n",
       "        text-align: right;\n",
       "    }\n",
       "</style>\n",
       "<table border=\"1\" class=\"dataframe\">\n",
       "  <thead>\n",
       "    <tr style=\"text-align: right;\">\n",
       "      <th></th>\n",
       "      <th>position</th>\n",
       "      <th>count</th>\n",
       "    </tr>\n",
       "  </thead>\n",
       "  <tbody>\n",
       "    <tr>\n",
       "      <th>0</th>\n",
       "      <td>Data Scientist</td>\n",
       "      <td>6</td>\n",
       "    </tr>\n",
       "    <tr>\n",
       "      <th>1</th>\n",
       "      <td>Founder</td>\n",
       "      <td>6</td>\n",
       "    </tr>\n",
       "    <tr>\n",
       "      <th>2</th>\n",
       "      <td>Human Resources Executive</td>\n",
       "      <td>5</td>\n",
       "    </tr>\n",
       "    <tr>\n",
       "      <th>3</th>\n",
       "      <td>Software Engineer</td>\n",
       "      <td>5</td>\n",
       "    </tr>\n",
       "    <tr>\n",
       "      <th>4</th>\n",
       "      <td>Talent Acquisition Specialist</td>\n",
       "      <td>4</td>\n",
       "    </tr>\n",
       "    <tr>\n",
       "      <th>5</th>\n",
       "      <td>Senior Associate</td>\n",
       "      <td>4</td>\n",
       "    </tr>\n",
       "    <tr>\n",
       "      <th>10</th>\n",
       "      <td>Product Manager</td>\n",
       "      <td>3</td>\n",
       "    </tr>\n",
       "    <tr>\n",
       "      <th>14</th>\n",
       "      <td>General Manager</td>\n",
       "      <td>3</td>\n",
       "    </tr>\n",
       "    <tr>\n",
       "      <th>12</th>\n",
       "      <td>Founder &amp; CEO</td>\n",
       "      <td>3</td>\n",
       "    </tr>\n",
       "    <tr>\n",
       "      <th>11</th>\n",
       "      <td>Assistant General Manager</td>\n",
       "      <td>3</td>\n",
       "    </tr>\n",
       "  </tbody>\n",
       "</table>\n",
       "</div>"
      ],
      "text/plain": [
       "                         position  count\n",
       "0                  Data Scientist      6\n",
       "1                         Founder      6\n",
       "2       Human Resources Executive      5\n",
       "3               Software Engineer      5\n",
       "4   Talent Acquisition Specialist      4\n",
       "5                Senior Associate      4\n",
       "10                Product Manager      3\n",
       "14                General Manager      3\n",
       "12                  Founder & CEO      3\n",
       "11      Assistant General Manager      3"
      ]
     },
     "execution_count": 10,
     "metadata": {},
     "output_type": "execute_result"
    }
   ],
   "source": [
    "df_position = df['position'].value_counts().reset_index()\n",
    "df_position.columns = ['position','count']\n",
    "df_position = df_position.sort_values(by=\"count\", ascending=False)\n",
    "df_position.head(10)"
   ]
  },
  {
   "cell_type": "markdown",
   "id": "4ce8380c-72d7-47d8-ba00-958039eaeb30",
   "metadata": {},
   "source": [
    "#### Creating the Network"
   ]
  },
  {
   "cell_type": "markdown",
   "id": "f7857815-4e1b-4797-9786-9d1f4e0a116b",
   "metadata": {},
   "source": [
    "##### Siimple Network"
   ]
  },
  {
   "cell_type": "code",
   "execution_count": 11,
   "id": "b9bc8d1d-ad2d-403d-b149-4221b6df3ae5",
   "metadata": {},
   "outputs": [
    {
     "data": {
      "text/html": [
       "<html>\n",
       "<head>\n",
       "<link rel=\"stylesheet\" href=\"https://cdnjs.cloudflare.com/ajax/libs/vis/4.16.1/vis.css\" type=\"text/css\" />\n",
       "<script type=\"text/javascript\" src=\"https://cdnjs.cloudflare.com/ajax/libs/vis/4.16.1/vis-network.min.js\"> </script>\n",
       "<center>\n",
       "<h1></h1>\n",
       "</center>\n",
       "\n",
       "<!-- <link rel=\"stylesheet\" href=\"../node_modules/vis/dist/vis.min.css\" type=\"text/css\" />\n",
       "<script type=\"text/javascript\" src=\"../node_modules/vis/dist/vis.js\"> </script>-->\n",
       "\n",
       "<style type=\"text/css\">\n",
       "\n",
       "        #mynetwork {\n",
       "            width: 500px;\n",
       "            height: 500px;\n",
       "            background-color: #ffffff;\n",
       "            border: 1px solid lightgray;\n",
       "            position: relative;\n",
       "            float: left;\n",
       "        }\n",
       "\n",
       "        \n",
       "\n",
       "        \n",
       "\n",
       "        \n",
       "</style>\n",
       "\n",
       "</head>\n",
       "\n",
       "<body>\n",
       "<div id = \"mynetwork\"></div>\n",
       "\n",
       "\n",
       "<script type=\"text/javascript\">\n",
       "\n",
       "    // initialize global variables.\n",
       "    var edges;\n",
       "    var nodes;\n",
       "    var network; \n",
       "    var container;\n",
       "    var options, data;\n",
       "\n",
       "    \n",
       "    // This method is responsible for drawing the graph, returns the drawn network\n",
       "    function drawGraph() {\n",
       "        var container = document.getElementById('mynetwork');\n",
       "        \n",
       "        \n",
       "\n",
       "        // parsing and collecting nodes and edges from the python\n",
       "        nodes = new vis.DataSet([{\"id\": 0, \"label\": \"root\", \"shape\": \"dot\", \"size\": 10}, {\"id\": 1, \"label\": \"Company 1\", \"shape\": \"dot\", \"size\": 10, \"title\": \"info1\"}, {\"id\": 2, \"label\": \"Company 2\", \"shape\": \"dot\", \"size\": 40, \"title\": \"info2\"}, {\"id\": 3, \"label\": \"Company 3\", \"shape\": \"dot\", \"size\": 60, \"title\": \"info3\"}]);\n",
       "        edges = new vis.DataSet([{\"from\": 0, \"to\": 1, \"weight\": 1}, {\"from\": 0, \"to\": 2, \"weight\": 1}, {\"from\": 0, \"to\": 3, \"weight\": 1}]);\n",
       "\n",
       "        // adding nodes and edges to the graph\n",
       "        data = {nodes: nodes, edges: edges};\n",
       "\n",
       "        var options = {\n",
       "    \"configure\": {\n",
       "        \"enabled\": false\n",
       "    },\n",
       "    \"edges\": {\n",
       "        \"color\": {\n",
       "            \"inherit\": true\n",
       "        },\n",
       "        \"smooth\": {\n",
       "            \"enabled\": false,\n",
       "            \"type\": \"continuous\"\n",
       "        }\n",
       "    },\n",
       "    \"interaction\": {\n",
       "        \"dragNodes\": true,\n",
       "        \"hideEdgesOnDrag\": false,\n",
       "        \"hideNodesOnDrag\": false\n",
       "    },\n",
       "    \"physics\": {\n",
       "        \"enabled\": true,\n",
       "        \"stabilization\": {\n",
       "            \"enabled\": true,\n",
       "            \"fit\": true,\n",
       "            \"iterations\": 1000,\n",
       "            \"onlyDynamicEdges\": false,\n",
       "            \"updateInterval\": 50\n",
       "        }\n",
       "    }\n",
       "};\n",
       "        \n",
       "        \n",
       "\n",
       "        \n",
       "\n",
       "        network = new vis.Network(container, data, options);\n",
       "\t \n",
       "        \n",
       "\n",
       "\n",
       "        \n",
       "\n",
       "        return network;\n",
       "\n",
       "    }\n",
       "\n",
       "    drawGraph();\n",
       "\n",
       "</script>\n",
       "</body>\n",
       "</html>"
      ],
      "text/plain": [
       "<IPython.core.display.HTML object>"
      ]
     },
     "metadata": {},
     "output_type": "display_data"
    }
   ],
   "source": [
    "nt = net.Network(notebook=True)\n",
    "\n",
    "g = nx.Graph()\n",
    "g.add_node(0, label = \"root\") # intialize yourself as central node\n",
    "g.add_node(1, label = \"Company 1\", size=10, title=\"info1\")\n",
    "g.add_node(2, label = \"Company 2\", size=40, title=\"info2\")\n",
    "g.add_node(3, label = \"Company 3\", size=60, title=\"info3\")\n",
    "g.add_edge(0,1)\n",
    "g.add_edge(0,2)\n",
    "g.add_edge(0,3)\n",
    "\n",
    "nt.from_nx(g)\n",
    "nt.show('nodes.html')\n",
    "display(HTML('nodes.html'))"
   ]
  },
  {
   "cell_type": "code",
   "execution_count": 12,
   "id": "1029a3b6-1df5-4669-ba83-c665a703c660",
   "metadata": {},
   "outputs": [
    {
     "name": "stdout",
     "output_type": "stream",
     "text": [
      "number of nodes: 4\n",
      "number of edges: 3\n"
     ]
    }
   ],
   "source": [
    "print(f\"number of nodes: {g.number_of_nodes()}\")\n",
    "print(f\"number of edges: {g.number_of_edges()}\")"
   ]
  },
  {
   "cell_type": "markdown",
   "id": "a87ce499-b4eb-4374-8051-d4ed05b54fb5",
   "metadata": {},
   "source": [
    "##### Reduce size of nodes"
   ]
  },
  {
   "cell_type": "code",
   "execution_count": 13,
   "id": "18be7d41-7d1b-42b8-8cfa-ec901b259665",
   "metadata": {},
   "outputs": [
    {
     "name": "stdout",
     "output_type": "stream",
     "text": [
      "(263, 2)\n",
      "(10, 2)\n"
     ]
    }
   ],
   "source": [
    "print(df_company.shape)\n",
    "df_company_reduced = df_company.loc[df_company['count']>=5]\n",
    "print(df_company_reduced.shape)"
   ]
  },
  {
   "cell_type": "code",
   "execution_count": 14,
   "id": "08bda042-a834-409a-a9ce-c2142c040937",
   "metadata": {},
   "outputs": [
    {
     "name": "stdout",
     "output_type": "stream",
     "text": [
      "(347, 2)\n",
      "(4, 2)\n"
     ]
    }
   ],
   "source": [
    "print(df_position.shape)\n",
    "df_position_reduced = df_position.loc[df_position['count']>=5]\n",
    "print(df_position_reduced.shape)"
   ]
  },
  {
   "cell_type": "markdown",
   "id": "f91adb46-c640-442b-b194-35e457bf5093",
   "metadata": {},
   "source": [
    "#### Creating network for connnections"
   ]
  },
  {
   "cell_type": "code",
   "execution_count": 16,
   "id": "91391783-cada-45ec-928f-9cfc60f39ee8",
   "metadata": {},
   "outputs": [
    {
     "data": {
      "text/html": [
       "<html>\n",
       "<head>\n",
       "<link rel=\"stylesheet\" href=\"https://cdnjs.cloudflare.com/ajax/libs/vis/4.16.1/vis.css\" type=\"text/css\" />\n",
       "<script type=\"text/javascript\" src=\"https://cdnjs.cloudflare.com/ajax/libs/vis/4.16.1/vis-network.min.js\"> </script>\n",
       "<center>\n",
       "<h1></h1>\n",
       "</center>\n",
       "\n",
       "<!-- <link rel=\"stylesheet\" href=\"../node_modules/vis/dist/vis.min.css\" type=\"text/css\" />\n",
       "<script type=\"text/javascript\" src=\"../node_modules/vis/dist/vis.js\"> </script>-->\n",
       "\n",
       "<style type=\"text/css\">\n",
       "\n",
       "        #mynetwork {\n",
       "            width: 700px;\n",
       "            height: 700px;\n",
       "            background-color: black;\n",
       "            border: 1px solid lightgray;\n",
       "            position: relative;\n",
       "            float: left;\n",
       "        }\n",
       "\n",
       "        \n",
       "\n",
       "        \n",
       "\n",
       "        \n",
       "</style>\n",
       "\n",
       "</head>\n",
       "\n",
       "<body>\n",
       "<div id = \"mynetwork\"></div>\n",
       "\n",
       "\n",
       "<script type=\"text/javascript\">\n",
       "\n",
       "    // initialize global variables.\n",
       "    var edges;\n",
       "    var nodes;\n",
       "    var network; \n",
       "    var container;\n",
       "    var options, data;\n",
       "\n",
       "    \n",
       "    // This method is responsible for drawing the graph, returns the drawn network\n",
       "    function drawGraph() {\n",
       "        var container = document.getElementById('mynetwork');\n",
       "        \n",
       "        \n",
       "\n",
       "        // parsing and collecting nodes and edges from the python\n",
       "        nodes = new vis.DataSet([{\"font\": {\"color\": \"white\"}, \"id\": \"root\", \"label\": \"root\", \"shape\": \"dot\", \"size\": 10}, {\"color\": \"#3449eb\", \"font\": {\"color\": \"white\"}, \"id\": \"AYA Bank\", \"label\": \"AYA Bank\", \"shape\": \"dot\", \"size\": 36, \"title\": \"\\u003cb\\u003eAYA Bank\\u003c/b\\u003e \\u2013 18\\u003cul\\u003e\\u003cli\\u003eSenior Recruiter\\u003c/li\\u003e\\u003cli\\u003eHR-Assistant General Manager\\u003c/li\\u003e\\u003cli\\u003eSoftware Architect\\u003c/li\\u003e\\u003cli\\u003eAssistant  Admin Manager\\u003c/li\\u003e\\u003cli\\u003eAssistant Supervisor\\u003c/li\\u003e\\u003cli\\u003eAssistant Manager (OD \\u0026 HR Projects) \\u003c/li\\u003e\\u003cli\\u003eManager\\u003c/li\\u003e\\u003cli\\u003eSenior Information Technology Governance Manager\\u003c/li\\u003e\\u003cli\\u003eDeputy Manager (Database Administrator)\\u003c/li\\u003e\\u003cli\\u003eAssistant Data Analyst Manager\\u003c/li\\u003e\\u003cli\\u003eSenior Database Developer\\u003c/li\\u003e\\u003cli\\u003eSenior Executive Human Resources\\u003c/li\\u003e\\u003cli\\u003eProduct Analyst\\u003c/li\\u003e\\u003cli\\u003eAssistant General Manager\\u003c/li\\u003e\\u003cli\\u003eJunior Associate\\u003c/li\\u003e\\u003cli\\u003eDeputy Manager HR\\u003c/li\\u003e\\u003cli\\u003eBranch Manager\\u003c/li\\u003e\\u003cli\\u003eHR Executive\\u003c/li\\u003e\\u003c/ul\\u003e\"}, {\"color\": \"#3449eb\", \"font\": {\"color\": \"white\"}, \"id\": \"uab bank\", \"label\": \"uab bank\", \"shape\": \"dot\", \"size\": 30, \"title\": \"\\u003cb\\u003euab bank\\u003c/b\\u003e \\u2013 15\\u003cul\\u003e\\u003cli\\u003eMD \\u0026 CEO\\u003c/li\\u003e\\u003cli\\u003eProduct Development Specialist\\u003c/li\\u003e\\u003cli\\u003eManager Corporate Banking\\u003c/li\\u003e\\u003cli\\u003eDeputy Manager\\u003c/li\\u003e\\u003cli\\u003eHead of Bancassurance\\u003c/li\\u003e\\u003cli\\u003eRelationship Manager Corporate Banking\\u003c/li\\u003e\\u003cli\\u003eSupervisor\\u003c/li\\u003e\\u003cli\\u003eExecutive Assistant to CEO\\u003c/li\\u003e\\u003cli\\u003eIT Manager\\u003c/li\\u003e\\u003cli\\u003eDeputy Director\\u003c/li\\u003e\\u003cli\\u003eHead of Human Resources and Sustainability Officer\\u003c/li\\u003e\\u003cli\\u003eDY CEO\\u003c/li\\u003e\\u003cli\\u003eSenior Assistant Performance Analyst\\u003c/li\\u003e\\u003cli\\u003eHuman Resources Executive\\u003c/li\\u003e\\u003cli\\u003eHuman Resources Business Partner\\u003c/li\\u003e\\u003c/ul\\u003e\"}, {\"color\": \"#3449eb\", \"font\": {\"color\": \"white\"}, \"id\": \"Yoma Bank\", \"label\": \"Yoma Bank\", \"shape\": \"dot\", \"size\": 20, \"title\": \"\\u003cb\\u003eYoma Bank\\u003c/b\\u003e \\u2013 10\\u003cul\\u003e\\u003cli\\u003eDevOps Engineer\\u003c/li\\u003e\\u003cli\\u003eChief Consumer Banking Officer\\u003c/li\\u003e\\u003cli\\u003eHead of Digital Channels\\u003c/li\\u003e\\u003cli\\u003eAssistant Manager\\u003c/li\\u003e\\u003cli\\u003eSenior Manager, Data Analytics\\u003c/li\\u003e\\u003cli\\u003eRelationship Manager Corporate Banking\\u003c/li\\u003e\\u003cli\\u003eProduct Owner\\u003c/li\\u003e\\u003cli\\u003eManager(Financial Planning \\u0026Analysis)\\u003c/li\\u003e\\u003cli\\u003eSenior Project Manager\\u003c/li\\u003e\\u003cli\\u003eDigital Applications Operations and IT Service Management\\u003c/li\\u003e\\u003c/ul\\u003e\"}, {\"color\": \"#3449eb\", \"font\": {\"color\": \"white\"}, \"id\": \"AIA Myanmar\", \"label\": \"AIA Myanmar\", \"shape\": \"dot\", \"size\": 14, \"title\": \"\\u003cb\\u003eAIA Myanmar\\u003c/b\\u003e \\u2013 7\\u003cul\\u003e\\u003cli\\u003eFinancial Portfolio Manager\\u003c/li\\u003e\\u003cli\\u003eAgency Trainer\\u003c/li\\u003e\\u003cli\\u003eActuarial Analyst\\u003c/li\\u003e\\u003cli\\u003eAssistant Manager, Talent Acquisition\\u003c/li\\u003e\\u003cli\\u003eTalent Attraction Assistant Manager\\u003c/li\\u003e\\u003cli\\u003eManager, Agency Recruitment\\u003c/li\\u003e\\u003cli\\u003eHuman Resources Analyst\\u003c/li\\u003e\\u003c/ul\\u003e\"}, {\"color\": \"#3449eb\", \"font\": {\"color\": \"white\"}, \"id\": \"Bagan Innovation Technology\", \"label\": \"Bagan Innovation Technology\", \"shape\": \"dot\", \"size\": 14, \"title\": \"\\u003cb\\u003eBagan Innovation Technology\\u003c/b\\u003e \\u2013 7\\u003cul\\u003e\\u003cli\\u003eDyCEO, CTO\\u003c/li\\u003e\\u003cli\\u003eHead Of Business Development\\u003c/li\\u003e\\u003cli\\u003eHead of Products\\u003c/li\\u003e\\u003cli\\u003eData Scientist\\u003c/li\\u003e\\u003cli\\u003eSenior Data Scientist\\u003c/li\\u003e\\u003cli\\u003eFull-stack Developer\\u003c/li\\u003e\\u003c/ul\\u003e\"}, {\"color\": \"#3449eb\", \"font\": {\"color\": \"white\"}, \"id\": \"CARRO\", \"label\": \"CARRO\", \"shape\": \"dot\", \"size\": 12, \"title\": \"\\u003cb\\u003eCARRO\\u003c/b\\u003e \\u2013 6\\u003cul\\u003e\\u003cli\\u003eDevOps Engineer\\u003c/li\\u003e\\u003cli\\u003eTalent Acquisition Specialist\\u003c/li\\u003e\\u003cli\\u003eData Engineer\\u003c/li\\u003e\\u003cli\\u003eChief Data Scientist\\u003c/li\\u003e\\u003cli\\u003eData Scientist\\u003c/li\\u003e\\u003cli\\u003eTalent Acquisition\\u003c/li\\u003e\\u003c/ul\\u003e\"}, {\"color\": \"#3449eb\", \"font\": {\"color\": \"white\"}, \"id\": \"Telenor\", \"label\": \"Telenor\", \"shape\": \"dot\", \"size\": 12, \"title\": \"\\u003cb\\u003eTelenor\\u003c/b\\u003e \\u2013 6\\u003cul\\u003e\\u003cli\\u003eBusiness Intelligence Manager\\u003c/li\\u003e\\u003cli\\u003eAssistant Manager, Product and Competiton Analytics (BA Analytics)\\u003c/li\\u003e\\u003cli\\u003eBusiness Data Analytics Manager\\u003c/li\\u003e\\u003cli\\u003eCyber Security Expert\\u003c/li\\u003e\\u003cli\\u003eCAF Auditing and Operation\\u003c/li\\u003e\\u003cli\\u003eManager, Digital Finance \\u0026 Financial Controller\\u003c/li\\u003e\\u003c/ul\\u003e\"}, {\"color\": \"#3449eb\", \"font\": {\"color\": \"white\"}, \"id\": \"KBZ Bank\", \"label\": \"KBZ Bank\", \"shape\": \"dot\", \"size\": 10, \"title\": \"\\u003cb\\u003eKBZ Bank\\u003c/b\\u003e \\u2013 5\\u003cul\\u003e\\u003cli\\u003eProduct Manager\\u003c/li\\u003e\\u003cli\\u003eWeb Development Intern\\u003c/li\\u003e\\u003cli\\u003eTalent Acquisition Specialist\\u003c/li\\u003e\\u003cli\\u003eSenior Manager\\u003c/li\\u003e\\u003cli\\u003eAssistant Manager, Public Policy \\u0026 Government Affair\\u003c/li\\u003e\\u003c/ul\\u003e\"}, {\"color\": \"#3449eb\", \"font\": {\"color\": \"white\"}, \"id\": \"Better HR\", \"label\": \"Better HR\", \"shape\": \"dot\", \"size\": 10, \"title\": \"\\u003cb\\u003eBetter HR\\u003c/b\\u003e \\u2013 5\\u003cul\\u003e\\u003cli\\u003eBoard Member\\u003c/li\\u003e\\u003cli\\u003eJunior Sale Executive\\u003c/li\\u003e\\u003cli\\u003eHead of Commercial - Myanmar\\u003c/li\\u003e\\u003cli\\u003eCustomer Communication \\u0026 Issue Resolution Manager\\u003c/li\\u003e\\u003cli\\u003eSales Manager\\u003c/li\\u003e\\u003c/ul\\u003e\"}, {\"color\": \"#3449eb\", \"font\": {\"color\": \"white\"}, \"id\": \"MPT\", \"label\": \"MPT\", \"shape\": \"dot\", \"size\": 10, \"title\": \"\\u003cb\\u003eMPT\\u003c/b\\u003e \\u2013 5\\u003cul\\u003e\\u003cli\\u003eInternal Audit Manager\\u003c/li\\u003e\\u003cli\\u003eSenior Deputy Manager\\u003c/li\\u003e\\u003cli\\u003eDeputy Manager\\u003c/li\\u003e\\u003cli\\u003eInformation Technology Consultant\\u003c/li\\u003e\\u003cli\\u003eDeputy Manager-HR Development Department (Recruiting at CEO, CFO, COO Office)\\u003c/li\\u003e\\u003c/ul\\u003e\"}]);\n",
       "        edges = new vis.DataSet([{\"color\": \"grey\", \"from\": \"root\", \"to\": \"AYA Bank\", \"weight\": 1}, {\"color\": \"grey\", \"from\": \"root\", \"to\": \"uab bank\", \"weight\": 1}, {\"color\": \"grey\", \"from\": \"root\", \"to\": \"Yoma Bank\", \"weight\": 1}, {\"color\": \"grey\", \"from\": \"root\", \"to\": \"AIA Myanmar\", \"weight\": 1}, {\"color\": \"grey\", \"from\": \"root\", \"to\": \"Bagan Innovation Technology\", \"weight\": 1}, {\"color\": \"grey\", \"from\": \"root\", \"to\": \"CARRO\", \"weight\": 1}, {\"color\": \"grey\", \"from\": \"root\", \"to\": \"Telenor\", \"weight\": 1}, {\"color\": \"grey\", \"from\": \"root\", \"to\": \"KBZ Bank\", \"weight\": 1}, {\"color\": \"grey\", \"from\": \"root\", \"to\": \"Better HR\", \"weight\": 1}, {\"color\": \"grey\", \"from\": \"root\", \"to\": \"MPT\", \"weight\": 1}]);\n",
       "\n",
       "        // adding nodes and edges to the graph\n",
       "        data = {nodes: nodes, edges: edges};\n",
       "\n",
       "        var options = {\n",
       "    \"configure\": {\n",
       "        \"enabled\": false\n",
       "    },\n",
       "    \"edges\": {\n",
       "        \"color\": {\n",
       "            \"inherit\": true\n",
       "        },\n",
       "        \"smooth\": {\n",
       "            \"enabled\": false,\n",
       "            \"type\": \"continuous\"\n",
       "        }\n",
       "    },\n",
       "    \"interaction\": {\n",
       "        \"dragNodes\": true,\n",
       "        \"hideEdgesOnDrag\": false,\n",
       "        \"hideNodesOnDrag\": false\n",
       "    },\n",
       "    \"physics\": {\n",
       "        \"enabled\": true,\n",
       "        \"stabilization\": {\n",
       "            \"enabled\": true,\n",
       "            \"fit\": true,\n",
       "            \"iterations\": 1000,\n",
       "            \"onlyDynamicEdges\": false,\n",
       "            \"updateInterval\": 50\n",
       "        }\n",
       "    }\n",
       "};\n",
       "        \n",
       "        \n",
       "\n",
       "        \n",
       "\n",
       "        network = new vis.Network(container, data, options);\n",
       "\t \n",
       "        \n",
       "\n",
       "\n",
       "        \n",
       "\n",
       "        return network;\n",
       "\n",
       "    }\n",
       "\n",
       "    drawGraph();\n",
       "\n",
       "</script>\n",
       "</body>\n",
       "</html>"
      ],
      "text/plain": [
       "<IPython.core.display.HTML object>"
      ]
     },
     "metadata": {},
     "output_type": "display_data"
    }
   ],
   "source": [
    "# initialize graph\n",
    "g = nx.Graph()\n",
    "g.add_node('root') # intialize yourself as central\n",
    "\n",
    "# use iterrows tp iterate through the data frame\n",
    "for _, row in df_company_reduced.iterrows():\n",
    "\n",
    "  # store company name and count\n",
    "  company = row['company']\n",
    "  count = row['count']\n",
    "\n",
    "  title = f\"<b>{company}</b> – {count}\"\n",
    "  positions = set([x for x in df[company == df['company']]['position']])\n",
    "  positions = ''.join('<li>{}</li>'.format(x) for x in positions)\n",
    "\n",
    "  position_list = f\"<ul>{positions}</ul>\"\n",
    "  hover_info = title + position_list\n",
    "\n",
    "  g.add_node(company, size=count*2, title=hover_info, color='#3449eb')\n",
    "  g.add_edge('root', company, color='grey')\n",
    "\n",
    "# generate the graph\n",
    "nt = net.Network(height='700px', width='700px', bgcolor=\"black\", font_color='white')\n",
    "nt.from_nx(g)\n",
    "nt.hrepulsion()\n",
    "# more customization https://tinyurl.com/yf5lvvdm\n",
    "nt.show('company_graph.html')\n",
    "display(HTML('company_graph.html'))"
   ]
  },
  {
   "cell_type": "code",
   "execution_count": null,
   "id": "5059a3ee-27d9-4a67-948a-54a5ac03465d",
   "metadata": {},
   "outputs": [],
   "source": []
  }
 ],
 "metadata": {
  "kernelspec": {
   "display_name": "Python 3 (ipykernel)",
   "language": "python",
   "name": "python3"
  },
  "language_info": {
   "codemirror_mode": {
    "name": "ipython",
    "version": 3
   },
   "file_extension": ".py",
   "mimetype": "text/x-python",
   "name": "python",
   "nbconvert_exporter": "python",
   "pygments_lexer": "ipython3",
   "version": "3.7.11"
  }
 },
 "nbformat": 4,
 "nbformat_minor": 5
}
